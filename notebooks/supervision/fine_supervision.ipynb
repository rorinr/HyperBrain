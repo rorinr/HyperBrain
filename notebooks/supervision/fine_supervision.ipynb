{
 "cells": [
  {
   "cell_type": "markdown",
   "metadata": {},
   "source": [
    "# Fine supervision\n",
    "\n",
    "This notebooks explains step-by-step how the custom dataset is build - based on already implemented coarse supervision"
   ]
  },
  {
   "cell_type": "markdown",
   "metadata": {},
   "source": []
  }
 ],
 "metadata": {
  "language_info": {
   "name": "python"
  }
 },
 "nbformat": 4,
 "nbformat_minor": 2
}
